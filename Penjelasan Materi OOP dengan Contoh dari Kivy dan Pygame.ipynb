{
 "cells": [
  {
   "cell_type": "markdown",
   "metadata": {},
   "source": [
    "# PENJELASAN MATERI OOP"
   ]
  },
  {
   "cell_type": "markdown",
   "metadata": {},
   "source": [
    "Apa itu Pemrograman Berorientasi Objek ? \n",
    "Pemrograman berorientasi objek adalah penyusunan pemrograman berdasarkan konseep objek, dimana di dalamnya terdapat objek dan class, serta ada method pula sebagai fungsinya."
   ]
  },
  {
   "cell_type": "markdown",
   "metadata": {},
   "source": [
    "Istilah – Istilah Dalam OOP\n",
    "Kita harus mengenal beberapa istilah dalam pemrograman berbasis object :\n",
    "\n",
    "    1. Kelas – Kelas adalah pondasi dari sebuah pembentukan object.\n",
    "    2. Variabel Kelas – Variabel kelas adalah sebuah penyimpanan yang dapat diakses dari dalam class atau luar class, \n",
    "       walaupun ada juga variabel private yg hanya bisa diakses pada class tersebut.\n",
    "    3. Variabel instansiasi – Variabel instansiasi adalah sebuah variabel yang di buat di dalam sebuah method tanpa \n",
    "       menggunakan self. sehingga hanya dapat di akses di method tersebut.\n",
    "    4. Instance – Instance adalah nama lain dari objek.\n",
    "    5. Instansiasi – Instansiasi adalah proses pembuatan sebuah object atau instance.\n",
    "    6. Metode – Metode adalah sebuah fungsi yang dibuat di dalam kelas sehingga dapat dipanggil berdasarkan fungsinya.\n",
    "    7. Objek – Objek adalah hasil dari pembentukan sebuah class. Dimana dari satu kelas bisa di buat menjadi banyak sekali \n",
    "       objek berbeda."
   ]
  },
  {
   "cell_type": "markdown",
   "metadata": {},
   "source": [
    ">> OBJECT DAN CLASS <<"
   ]
  },
  {
   "cell_type": "markdown",
   "metadata": {},
   "source": [
    "1. Class \n",
    "\n",
    "   Class merupakan tempat pendefinisian dari atribut atribut yang menjadi ciri dari objek kelas tersebut dan method untuk\n",
    "   digunakan pada usatu tujuan. contoh class manusia memiliki atribut berat, tinggi, usia, memiliki method makan, minum,\n",
    "   tidur. Dalam penulisan keyword class diikuti nama kelas yag kita inginkan, lebih baik nama class diawali dengan huruf\n",
    "   kapital. "
   ]
  },
  {
   "cell_type": "code",
   "execution_count": null,
   "metadata": {},
   "outputs": [],
   "source": [
    "class Segment(pygame.sprite.Sprite):\n",
    "    \"\"\" Class to represent one segment of the snake. \"\"\"\n",
    "    # -- Methods\n",
    "    # Constructor function\n",
    "\n",
    "    def __init__(self, x, y, color):\n",
    "        self.__fill = color\n",
    "        # Call the parent's constructor\n",
    "        super().__init__()\n",
    "\n",
    "        # Set height, width\n",
    "        self.image = pygame.surface.Surface([segment_width, segment_height])\n",
    "        self.image.fill(color)\n",
    "\n",
    "        # Make our top-left corner the passed-in location.\n",
    "        self.rect = self.image.get_rect()\n",
    "        self.rect.x = x\n",
    "        self.rect.y = y\n",
    "\n",
    "    def set_fill(self, color):\n",
    "        self.image.fill(color)\n",
    "        self.__fill = color\n",
    "\n",
    "    def get_fill(self):\n",
    "        return self.__fill"
   ]
  },
  {
   "cell_type": "markdown",
   "metadata": {},
   "source": [
    "2. Object\n",
    "\n",
    "   Object :object merupakan bentuk nyata dari class, setiap object itu memiliki atribut dan method yang dimiliki oleh class\n",
    "   nya."
   ]
  },
  {
   "cell_type": "code",
   "execution_count": null,
   "metadata": {},
   "outputs": [],
   "source": [
    "...\n",
    "        \n",
    "        makan = Makan()\n",
    "        \n",
    "..."
   ]
  },
  {
   "cell_type": "markdown",
   "metadata": {},
   "source": [
    ">> INHERITANCE <<"
   ]
  },
  {
   "cell_type": "markdown",
   "metadata": {},
   "source": [
    "1. Pengertian Inheritance\n",
    "   Inheritance adalah sebuah penurunan sifat dari kelas lain (kelas induk) kepada kelas baru. dimana kelas baru ini akan\n",
    "   menjadi anak dari kelas induk. kelas anak juga mewarisi method dan property dasar dari kelas induk. Disini dapat\n",
    "   diilustrasikan di bidang biologi dimana penurunan sifat dapat terjadi pada orang tua yang menurunkan sifatnya pada\n",
    "   anakanya."
   ]
  },
  {
   "cell_type": "markdown",
   "metadata": {},
   "source": [
    "2. Pembuatan Inheritance\n",
    "\n",
    "   a. Pertama Kita membuat kelas induk (eg. User) yang berisi property nama dan method printnama.\n",
    "   b. Kita buat kelas baru (eg. Programer) dengan parameter kelas induk (eg. User). perhatikan contoh dibawah ini.\n",
    "   c. kemudian kita lakukan super didalam konstraktor dimana merupakan salah satu type dari inheritance.\n",
    "   d. kita buat method baru dengan nama print lastname dan doPython. sehingga sampai saat ini kelas Programer miliki\n",
    "      method. 1 method dari kelas induk.\n",
    "      \n",
    "   Pembuatan Inheritance penurunan sifat seluruh tanpa penambahan.\n",
    "   a. Buat sebuah kelas baru (eg. Programer 1) dengan parameter User (kelas Induk). kemudian cukup isikan dengan \"pass\".\n",
    "      maka kelas tersebut sudah menuruni semua property dan method dari kelas induk."
   ]
  },
  {
   "cell_type": "code",
   "execution_count": null,
   "metadata": {},
   "outputs": [],
   "source": [
    "class Makan(pygame.sprite.Sprite):\n",
    "    \"\"\" This class represents a food \"\"\"\n",
    "\n",
    "    def __init__(self):\n",
    "        super().__init__()\n",
    "        self.image = pygame.surface.Surface([15, 15])\n",
    "        self.image.fill(GREEN)\n",
    "        self.rect = self.image.get_rect()\n",
    "        self.rect.x = random.randrange(gridSize, SCREEN_WIDTH, gridSize)\n",
    "        self.rect.y = random.randrange(gridSize, SCREEN_HEIGHT, gridSize)\n",
    "\n",
    "    def updatePos(self):\n",
    "        self.rect.x = random.randrange(gridSize, SCREEN_WIDTH, gridSize)\n",
    "        self.rect.y = random.randrange(gridSize, SCREEN_HEIGHT, gridSize)"
   ]
  },
  {
   "cell_type": "markdown",
   "metadata": {},
   "source": [
    "3. Bentuk dari Inheritance\n",
    "\n",
    "   a. Simple Inheritance\n",
    "      Membuat kelas induk bernama A. kemudian membuat kelas baru bernama B dengan parameter kelas Induk A. inilah yang\n",
    "      dinamakan simple inheritance yaitu penurunan satu induk ke satu anak kelas.\n",
    "      \n",
    "   b. Multilevel Inheritance\n",
    "      Membuat kelas baru bernama C dengan parameter kelas B (yang merupakan turunan dari kelas A). Sampai disini C sudah\n",
    "      menuruni sifat dari A dan B. dimana A sebagai grandparrent dan B sebagai parrent, sedangkan C sebagai child.\n",
    "      \n",
    "   c. Heirarchical Inheritance\n",
    "      Bentuk ini yaitu satu parrent menurunkan sifatnya pada dua anaknya.\n",
    "      dimana kelas induk A menurunkan sifatnya pada kelas anak B dan C."
   ]
  },
  {
   "cell_type": "markdown",
   "metadata": {},
   "source": [
    ">> JENIS INHERITANCE"
   ]
  },
  {
   "cell_type": "code",
   "execution_count": null,
   "metadata": {},
   "outputs": [],
   "source": [
    "class Game3(Game2):\n",
    "    lvl = 3\n",
    "    def createOuterWall(self):\n",
    "        wallt = WallManual(0, 0, SCREEN_WIDTH, gridSize, PINK)\n",
    "        wallr = WallManual(SCREEN_WIDTH-gridSize, 0, gridSize, SCREEN_HEIGHT, PINK)\n",
    "        wallb = WallManual(0, SCREEN_HEIGHT-gridSize, SCREEN_WIDTH, gridSize, PINK)\n",
    "        walll = WallManual(0, 0, gridSize, SCREEN_HEIGHT, PINK)\n",
    "        \n",
    "        wall_list = [wallt, wallr, wallb, walll]\n",
    "        for wall in wall_list:\n",
    "            self.wall_groups.add(wall)\n",
    "            self.allspriteslist.add(wall)\n",
    "    def collideOuterWall(self):\n",
    "        wall_tertabrak = pygame.sprite.spritecollide(\n",
    "            self.segment, self.wall_groups, True)\n",
    "        # Check the list of collisions.\n",
    "        for wall in wall_tertabrak:\n",
    "            self.wall_groups.remove(wall)\n",
    "            self.over = True"
   ]
  },
  {
   "cell_type": "markdown",
   "metadata": {},
   "source": [
    "Seperti yang sudah kita pelajari sebelumnya yaitu inheritance adalah sebuah penurunan sifat yaitu termasuk property dan method yang ada pada kelas induk.\n",
    "\n",
    "Berikut ini jenis dari penurunan sifat:"
   ]
  },
  {
   "cell_type": "markdown",
   "metadata": {},
   "source": [
    "1. Default Inheritance\n",
    "\n",
    "   Penurunan semua sifat (property dan method) dari induk kepada kelas anak tanpa ada penambahan method lain. Biasanya\n",
    "   pembuatan kelas ini hanya dengan mengisi pass pada isi kelasnya."
   ]
  },
  {
   "cell_type": "markdown",
   "metadata": {},
   "source": [
    "2. Overidding Inheritance\n",
    "\n",
    "   Inheritance yang mengganti method atau property pada kelas induk dengan method dan property baru dalam kelas anak.\n",
    "   Penggunaan overidding nama method yang ada di kelas anak harus sama dengan nama method yang di overidding di kelas \n",
    "   induk. Walaupun isi dari methodnya berbeda."
   ]
  },
  {
   "cell_type": "code",
   "execution_count": null,
   "metadata": {},
   "outputs": [],
   "source": [
    "class RadioButton(ToggleButton):\n",
    "    def _do_press(self):\n",
    "        if self.state == 'normal':\n",
    "            ToggleButtonBehavior._do_press(self)"
   ]
  },
  {
   "cell_type": "code",
   "execution_count": null,
   "metadata": {},
   "outputs": [],
   "source": [
    "class PaintApp(App):\n",
    "    def build(self):\n",
    "        # The set_color() method will be implemented shortly.\n",
    "        self.canvas_widget = CanvasWidget()\n",
    "        self.canvas_widget.set_color(self.canvas_widget.color_paint)\n",
    "        self.canvas_widget.create_outline()\n",
    "        return self.canvas_widget"
   ]
  },
  {
   "cell_type": "markdown",
   "metadata": {},
   "source": [
    "3. Super Inheritance\n",
    "\n",
    "   Menurunkan semua property dan method dari induk kepada kelas anak, agar anak dapat mengakses lebih dari kelas induk.\n",
    "   Inheritance super digunakan agar kelas anak bisa mengakses keseluruhan dari kelas induk. juga agar kelas anak bisa\n",
    "   mengisi parameter yang dibutuhkan pada kelas induk. sehingga lebih mudah untuk dikustomisasi.\n",
    "   Super biasa dipanggil dengan super().method(parameter) atau dengan nama induk lingkaran.method(self,parameter) tentu \n",
    "   saja dengan menambahkan self agar tidak terjadi error."
   ]
  },
  {
   "cell_type": "code",
   "execution_count": null,
   "metadata": {},
   "outputs": [],
   "source": [
    "class Poison(pygame.sprite.Sprite):\n",
    "    \"\"\" This class represents a poison \"\"\"\n",
    "\n",
    "    def __init__(self):\n",
    "        super().__init__()\n",
    "        self.image = pygame.surface.Surface([15, 15])\n",
    "        self.image.fill(RED)\n",
    "        self.rect = self.image.get_rect()\n",
    "        self.rect.x = random.randrange(gridSize, SCREEN_WIDTH, gridSize)\n",
    "        self.rect.y = random.randrange(gridSize, SCREEN_HEIGHT, gridSize)\n",
    "\n",
    "    def updatePos(self):\n",
    "        self.rect.x = random.randrange(gridSize, SCREEN_WIDTH, gridSize)\n",
    "        self.rect.y = random.randrange(gridSize, SCREEN_HEIGHT, gridSize)"
   ]
  },
  {
   "cell_type": "markdown",
   "metadata": {},
   "source": [
    "4. Multiple Inheritance\n",
    "\n",
    "   Penurunan warisan dari dua buah kelas induk atau lebih (eg. ayah dan ibu) kepada kelas anak, jadi anak memiliki 2\n",
    "   parameter induk. Dimana anak mewarisi semua hal yang dimiliki oleh kedua kelas induk."
   ]
  },
  {
   "cell_type": "markdown",
   "metadata": {},
   "source": [
    ">> POLYMORPHYSME"
   ]
  },
  {
   "cell_type": "markdown",
   "metadata": {},
   "source": [
    "Apa itu Polymorphysme? \n",
    "\n",
    "Polymorphisme tersusun dari kata poly yang memiliki arti banyak dan morphisme yang memiliki arti bentuk. jadi arti dari Polymorphysme yaitu memiliki banyak bentuk, mempunyai nama yang sama, tetapi tidak pasti memiliki hasil yang sama.method di masing masing kelas memiliki nama yang sama dengan hasil yang berbeda, serta proses yang berbeda."
   ]
  },
  {
   "cell_type": "markdown",
   "metadata": {},
   "source": [
    "Abstract Class:\n",
    "\n",
    "Abstract kelas adalah sebuah kelas yang memiliki bentuk method namun ketika dipanggil tidak muncul dan melakukan apa apa. Biasanya abstract kelas digunakna oleh induk yang memiliki bentuk dasar saja, sehingga nanti turunan atau anaknya bisa melakukan pengisian kerangka atau bentukan tadi."
   ]
  },
  {
   "cell_type": "markdown",
   "metadata": {},
   "source": [
    ">> METHOD DAN OPERATOR OVERLOADING"
   ]
  },
  {
   "cell_type": "markdown",
   "metadata": {},
   "source": [
    "1. Pengertian Overloading\n",
    "\n",
    "   Overloading merupakan salah satu konsep dalam pemrogramaan berorientasi objek dimana dalam suatu class terdapat beberapa\n",
    "   method dengan nama yang sama namun memiliki berbagai fungsi yang berbeda, tergantung dari parameter yang digunakan.\n",
    "   Method Overloading juga dikenal dengan sebutan Static Polymorphism. dan juga dilain pendapat Method overloading adalah\n",
    "   sebuah method atau fungsi yang dapat kita panggil dengan banyak cara, dimana kita dapat menempatkan beberapa parameter.\n",
    "   method overloading yg di overloading Methodnya kalau operator overloading yang di overloading isi data classnya dalam \n",
    "   hal menambahkan atau menggabungkan atau yg lain. Operator overloading digunakan untuk mendefinisikan sebuah method yang \n",
    "   spesial.\n",
    "   \n",
    "   \n",
    "2. Perbedaan Overloading dengan Overriding\n",
    "\n",
    "   Bedanya dengan Overriding yaitu kalau Overriding merupakan method yang parrent class yang ditulis kembali oleh subclass.\n",
    "   Dengan aturan sebagai berikut :\n",
    "        a. Nama dan Parameter harus sama antara kelas induk dan kelas anak.\n",
    "        b. Method pada kelas anak harus lebih fleksibel dari kelas induk.\n",
    "   Method Overloading : Satu Fungsi bisa dipanggil banyak cara Method Overridding : Banyak Fungsi namun dipanggil yang\n",
    "   terakhir saja"
   ]
  },
  {
   "cell_type": "markdown",
   "metadata": {},
   "source": [
    ">> ENCAPSULATION"
   ]
  },
  {
   "cell_type": "code",
   "execution_count": null,
   "metadata": {},
   "outputs": [],
   "source": [
    "    def __createFirstSnake(self):\n",
    "        for i in range(5):\n",
    "            x = gridSize * (11 - i)\n",
    "            y = gridSize * 3\n",
    "            segment = Segment(x, y, WHITE)\n",
    "            self.snake_segments.append(segment)\n",
    "            self.snake_groups.add(segment)\n",
    "            self.allspriteslist.add(segment)"
   ]
  },
  {
   "cell_type": "markdown",
   "metadata": {},
   "source": [
    "1. Pengertian Encapsulation\n",
    "\n",
    "   Encapsulation adalah proses penyembunyian property atau method pada suatu kelas agar tidak dapat diakses dari luar \n",
    "   kelas. Proses encapsulation ditujukan agar proses yang tidak harus diketahui oleh pengguna bisa terjaga secara aman. "
   ]
  },
  {
   "cell_type": "markdown",
   "metadata": {},
   "source": [
    "2. Istilah-istilah dalam Encapsulation\n",
    "\n",
    "        a. Private method adalah sebuah method yang disembunyikan agar tidak bisa diakses dari luar kelas secara langsung.\n",
    "        b. Private Attribut/Property adalah sebuah Atribut/property yang disembunyikan sehingga nilainya tidak diketahui \n",
    "           dari luar class secara langsung.\n",
    "        c. Public Method dan Public Atribut/Property dapat diakses dari mana saja baik dari dalam maupun luar kelas\n",
    "        d. Private Method dan Private Atribut Hanya dapat diakses didalam kelas itu sendiri."
   ]
  },
  {
   "cell_type": "markdown",
   "metadata": {},
   "source": [
    "3. Untuk mengakses property/Atribut dan method yang terencapsulation ada 3 cara yaitu :\n",
    "\n",
    "       a. Dengan Membuat property/method baru dengan isi/nilai di dalamnya yaitu method/property yang terencapsulation\n",
    "       b. Dengan Menggunakan Method baru Tambahan\n",
    "          Membuat sebuah method bernama get... dengan isi return nilai dari property yang ingin agar bisa di akses dari luar\n",
    "       c. Dengan Menambahkan _NamaKelas Di depan penulisan nama method yang terencapsulation\n",
    "          Melakukan pemanggilan method dari kelas objek seperti biasa kemudian ditambahn _NamaKelas didepannya. (eg.\n",
    "          redcar._Carspeed untuk property atau redcar._CarstartEngine() untuk method)"
   ]
  }
 ],
 "metadata": {
  "kernelspec": {
   "display_name": "Python 3",
   "language": "python",
   "name": "python3"
  },
  "language_info": {
   "codemirror_mode": {
    "name": "ipython",
    "version": 3
   },
   "file_extension": ".py",
   "mimetype": "text/x-python",
   "name": "python",
   "nbconvert_exporter": "python",
   "pygments_lexer": "ipython3",
   "version": "3.6.5"
  }
 },
 "nbformat": 4,
 "nbformat_minor": 2
}
