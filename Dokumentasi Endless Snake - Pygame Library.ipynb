{
 "cells": [
  {
   "cell_type": "markdown",
   "metadata": {},
   "source": [
    "## DOKUMENTASI TUGAS PYGAME PEMROGRAMAN BERORIENTASI OBJECT"
   ]
  },
  {
   "cell_type": "markdown",
   "metadata": {},
   "source": [
    "<img src=\"https://1.bp.blogspot.com/-x-kL60j5wqc/XBsjwrRCRSI/AAAAAAAACmM/Wqqf2Nj03Fopl-yuf2iXhnYn5YC8lSTMgCLcBGAs/s1600/doc_snake_1.PNG\" width=\"640\"/>"
   ]
  },
  {
   "cell_type": "markdown",
   "metadata": {},
   "source": [
    "Global Variable :\n",
    "+ BLACK, WHITE, PINK, RED, YELLOW, GREEN, BLUE\n",
    "+ segment_width untuk ukuran lebar segment ular\n",
    "+ segment_height untuk ukuran tinggi segment ular\n",
    "+ segment_margin untuk jarak antar margin\n",
    "+ gridSize untuk ukuran grid kotak pada screen\n",
    "+ x_change, y_change untuk loncatan atau lari dari ularnya\n",
    "+ SCREEN_WIDTH ukuran lebar window game\n",
    "+ SCREEN_HEIGHT ukuran tinggi window game\n",
    "\n",
    "Method and Class from pygame :\n",
    "+ init()\n",
    "+ sprite.Sprite\n",
    "+ surface.Surface\n",
    "+ sprite.Group\n",
    "+ surface.Surface.fill\n",
    "+ surface.Surface.rect\n",
    "+ time.Clock\n",
    "+ display.set_mode\n",
    "+ display.set_caption\n",
    "+ constants.*\n",
    "+ event.get\n",
    "+ event.type vv\n",
    "+ sprite.Group.draw\n",
    "+ display.flip\n",
    "+ time.Clock.tick\n",
    "+ quit()"
   ]
  },
  {
   "cell_type": "markdown",
   "metadata": {},
   "source": [
    "#### Class dan Method for Snake Game ####"
   ]
  },
  {
   "cell_type": "markdown",
   "metadata": {},
   "source": [
    "<img src=\"https://4.bp.blogspot.com/-siZ2X26FUqE/XBsjx_xNwAI/AAAAAAAACmc/YybWyB9ur5sX3FM5Z4N352GBABeSX0qjQCLcBGAs/s1600/doc_snake_2.PNG\"/>"
   ]
  },
  {
   "cell_type": "markdown",
   "metadata": {},
   "source": [
    "1. Class Segment:\n",
    "    Memiliki property :\n",
    "    -\timage merupakan bentuk permukaan dengan ukuran segment\n",
    "    -\trect yaitu letak koordinat dari image\n",
    "    Method :\n",
    "    + set_fill untuk mengatur warna dari segment\n",
    "    + get_fill untuk mengambil warna dari segment"
   ]
  },
  {
   "cell_type": "markdown",
   "metadata": {},
   "source": [
    "<img src=\"https://3.bp.blogspot.com/-HDm8ijsWS98/XBsjycpSLyI/AAAAAAAACmg/q7xVrrBe-WMiwHtLjOtwFdZYbTgcv72xQCLcBGAs/s1600/doc_snake_3.PNG\"/>"
   ]
  },
  {
   "cell_type": "markdown",
   "metadata": {},
   "source": [
    "2. Class Makan:\n",
    "    Memiliki property :\n",
    "    -\timage merupakan bentuk permukaan dengan ukuran makanan\n",
    "    -\trect yaitu letak koordinat dari image\n",
    "    Method :\n",
    "    + update pos untuk mengatur posisi ulang makanan dengan random koordinat"
   ]
  },
  {
   "cell_type": "markdown",
   "metadata": {},
   "source": [
    "<img src=\"https://1.bp.blogspot.com/-CI90L_WGGt4/XBsjyurpMlI/AAAAAAAACmk/CQ6Py5In4uUb9rifK5JeekGsiVrguqeDwCLcBGAs/s1600/doc_snake_4.PNG\"/>"
   ]
  },
  {
   "cell_type": "markdown",
   "metadata": {},
   "source": [
    "3. Class Poison:\n",
    "    Memiliki property :\n",
    "    -\timage merupakan bentuk permukaan dengan ukuran poison\n",
    "    -\trect yaitu letak koordinat dari image\n",
    "    Method :\n",
    "    + update pos untuk mengatur posisi ulang poison dengan random koordinat"
   ]
  },
  {
   "cell_type": "markdown",
   "metadata": {},
   "source": [
    "<img src=\"https://3.bp.blogspot.com/-aAYNMtrQ-fI/XBsjyvii9ZI/AAAAAAAACmo/hkPwF10pSHImSVsms7sSf1Itov_HzNeaACLcBGAs/s1600/doc_snake_5.PNG\"/>"
   ]
  },
  {
   "cell_type": "markdown",
   "metadata": {},
   "source": [
    "4. Class Wall:\n",
    "    Memiliki property :\n",
    "    -\timage merupakan bentuk permukaan dengan ukuran poison\n",
    "    -\trect yaitu letak koordinat dari image"
   ]
  },
  {
   "cell_type": "markdown",
   "metadata": {},
   "source": [
    "<img src=\"https://3.bp.blogspot.com/-pTUBQ8DoDu4/XBsjy_LdV4I/AAAAAAAACms/zzQ7QZxSkWYOep2hpkzhS0d1KiJCi1wsgCLcBGAs/s1600/doc_snake_6.PNG\"/>"
   ]
  },
  {
   "cell_type": "markdown",
   "metadata": {},
   "source": [
    "5. Class WallManual:\n",
    "    Memiliki property :\n",
    "    -\timage merupakan bentuk permukaan dengan ukuran poison\n",
    "    -\trect yaitu letak koordinat dari image"
   ]
  },
  {
   "cell_type": "markdown",
   "metadata": {},
   "source": [
    "<img src=\"https://3.bp.blogspot.com/-HBWgRp8bou0/XBsjzU390rI/AAAAAAAACmw/o93i0kyyQZsXYM9rmo4oF38E_HnkXbvHgCLcBGAs/s1600/doc_snake_7.PNG\"/>"
   ]
  },
  {
   "cell_type": "markdown",
   "metadata": {},
   "source": [
    "6. Class Arroykeyboard:\n",
    "    Memiliki property :\n",
    "    -\tleftPressed untuk mengetahui apakah ular bergerak ke kiri ketika True\n",
    "    -\trightPressed untuk mengetahui apakah ular bergerak ke kanan ketika True\n",
    "    -\ttopPressed untuk mengetahui apakah ular bergerak ke atas ketika True\n",
    "    -\tbottomPressed untuk mengetahui apakah ular bergerak ke bawah ketika True"
   ]
  },
  {
   "cell_type": "markdown",
   "metadata": {},
   "source": [
    "<img src=\"https://3.bp.blogspot.com/-TP2un6zh6Ms/XBsjz1SSCaI/AAAAAAAACm0/SI8OHiJHFwQSxdi-4neOYyg-DIjYttqrACLcBGAs/s1600/doc_snake_8.PNG\"/>"
   ]
  },
  {
   "cell_type": "markdown",
   "metadata": {},
   "source": [
    "<img src=\"https://1.bp.blogspot.com/-I_AZmPVhRLQ/XBsjz858XWI/AAAAAAAACm4/3at5Gbmff14jBFRrbkBB9xAsSWhLD4NJgCLcBGAs/s1600/doc_snake_9.PN\"/>\n",
    "<img src=\"https://2.bp.blogspot.com/-v8GS0joPonw/XBsjwowdwBI/AAAAAAAACmI/wUHJA7My4QAS2UQUGmVPQmCIlVZ8vbMIACLcBGAs/s1600/doc_snake_10.PNG\"/>"
   ]
  },
  {
   "cell_type": "markdown",
   "metadata": {},
   "source": [
    "7. Class Game:\n",
    "    Memiliki property:\n",
    "    -\tover untuk mendeteksi game over atau tidak\n",
    "    -\tdone untuk mendeteksi apakah game selesai\n",
    "    -\tpause untuk mendeteksi apakah game sedang di jeda\n",
    "    -\tscore untuk mengetahui jumlah score\n",
    "    -\tallspriteslist untuk menampung semua yang ingin di masukkan ke dalam screen\n",
    "    -\tsnake_groups untuk menampung bagian segmen ular ke dalam sprite groups\n",
    "    -\tsnake_segmnet untuk menampung segment ular ke dalam sebuah list\n",
    "    -\tmakan_groups untuk menampung semua makanan ke dalam sprite groups\n",
    "    -\tmakan_list untuk menampung bagian makanan sehingga mudah diakses\n",
    "    -\tpoison_groups untuk menampung semua poison ke dalam sprite groups\n",
    "    -\tpoison_list untuk menampung bagian poison sehingga mudah diakses\n",
    "    -\tupdate_poison untuk menghitung lamanya poison berganti posisi\n",
    "    -\tupdate_makan untuk menghitung lamanya makanan berganti posisi\n",
    "    -\teated_food untuk menampung semua makanan yang sudah termakan\n",
    "    -\teated_poison untuk menampung semua poison yang sudah termakan\n",
    "    -\thappened_crash untuk menampung crash yg terjadi\n",
    "    \n",
    "    Memiliki Method:\n",
    "    -\t__createFirstSnake untuk membuat sebuah snake awal\n",
    "    + run_snake untuk agar ular bergerak\n",
    "    + cutSnake untuk memotong bagian segment ular\n",
    "    + addSnake untuk menambahkan satu segment pada ular\n",
    "    + addFood untuk menambahkan makanan baru\n",
    "    + updateFood untuk memperbaruhi posisi dari makanan yang lama\n",
    "    + addPoison untuk membuat sebuah poison baru\n",
    "    + updatePoison untuk memperbaruhi posisi dari poison yang lama\n",
    "    + eatingFood untuk melakukan perintah ketika makanan termakan oleh snake\n",
    "    + eatingPoison untuk melakukan perintah ketika poison termakan oleh snake\n",
    "    + collideSelf untuk mengecek apakah snake menambrak dirinya sendiri\n",
    "    + showScore untuk menampilkan Score secara realtime pada game\n",
    "    + showLengthSnake untuk menampilkan berapa Panjang ular secara realtime\n",
    "    + showLevel untuk menmapil level\n",
    "    + showGameOver untuk menampilkan text dan hasil score ketika snake mati\n",
    "    + collWindow untuk mengatur agar ular kembali ketika melewati window atau sisi window dan muncul di sisi yang lain\n"
   ]
  },
  {
   "cell_type": "markdown",
   "metadata": {},
   "source": [
    "<img src=\"https://4.bp.blogspot.com/-8vIB2zDoNLc/XBsjxgWWbsI/AAAAAAAACmU/0Esq7ew1fYwrQ1HwtVrL4jrg2UzxBekmQCLcBGAs/s1600/doc_snake_11.PNG\"/>"
   ]
  },
  {
   "cell_type": "markdown",
   "metadata": {},
   "source": [
    "8. Class Game2(Game):\n",
    "    Memiliki property :\n",
    "    -\tlvl untuk menentukan kalau itu level 2\n",
    "    -\twall_groups untuk menampung semua wall ke dalam sprite groups\n",
    "    -\twall_list untuk menampung bagian wall untuk mudah diakses\n",
    "    -\tupdate_wall untuk menghitung lamanya wall berganti posisi\n",
    "    -\tcrashed_wall untuk menampung yang tertabrak\n",
    "    \n",
    "    Memiliki Method :\n",
    "    + addWall untuk menambahkan wall baru\n",
    "    + updateWall untuk memperbaharui posisi wall yang lama\n",
    "    + collideWall untuk mengecek snake menabrak wall"
   ]
  },
  {
   "cell_type": "markdown",
   "metadata": {},
   "source": [
    "<img src=\"https://4.bp.blogspot.com/-8TH6b7xuQ5Q/XBsjxucJ0pI/AAAAAAAACmY/4wx3PD-iIs4O3WoTleaJkd-SjmXZ6vpBQCLcBGAs/s1600/doc_snake_12.PNG\"/>"
   ]
  },
  {
   "cell_type": "markdown",
   "metadata": {},
   "source": [
    "9. Class Game3(Game2):\n",
    "    Memiliki property :\n",
    "    -\tlvl untuk menentukan kalau itu level 3\n",
    "    \n",
    "    Memiliki Method :\n",
    "    + createOuterWall untuk memberi dinding sebagai tepi\n",
    "    + collideOuterWall untuk mengecek snake menabrak dinding\n",
    "Sumber Referensi :\n",
    "http://programarcadegames.com/python_examples/f.php?file=snake.py\n"
   ]
  }
 ],
 "metadata": {
  "kernelspec": {
   "display_name": "Python 3",
   "language": "python",
   "name": "python3"
  },
  "language_info": {
   "codemirror_mode": {
    "name": "ipython",
    "version": 3
   },
   "file_extension": ".py",
   "mimetype": "text/x-python",
   "name": "python",
   "nbconvert_exporter": "python",
   "pygments_lexer": "ipython3",
   "version": "3.6.5"
  }
 },
 "nbformat": 4,
 "nbformat_minor": 2
}
