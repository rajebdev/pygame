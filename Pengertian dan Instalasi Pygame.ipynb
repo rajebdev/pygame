{
 "cells": [
  {
   "cell_type": "markdown",
   "metadata": {},
   "source": [
    "# PYGAME"
   ]
  },
  {
   "cell_type": "markdown",
   "metadata": {},
   "source": [
    "#### PENGERTIAN PYGAME ####"
   ]
  },
  {
   "cell_type": "markdown",
   "metadata": {},
   "source": [
    "Apa itu Pygame?\n",
    "Pygame merupakan modul python yang dapat digunakan untuk pembuatan Game. \n",
    "Untuk menggunakannya kita perlu menginstalnya terlebih dahulu.\n",
    "Untuk langkah-langkah menginstallny akita akan jelaskan dibawah."
   ]
  },
  {
   "cell_type": "markdown",
   "metadata": {},
   "source": [
    ">> CARA INSTALASI PYGAME <<"
   ]
  },
  {
   "cell_type": "markdown",
   "metadata": {},
   "source": [
    "Agar modul pygame dapat digunakan untuk pembuatan game, maka terlebih dahulu dilakukan instalasi Pygame. Tahapan-tahapan yang harus dilakukan untuk instalasi pygame ini adalah : \n",
    "\n",
    "     a.\tSiapkan file pygame.whl \n",
    "        Download library pygame di https://www.lfd.uci.edu/~gohlke/pythonlibs/ .Sesuaikan versi python yang terinstall\n",
    "        dengan versi library pygame yang akan di download. Contoh python v3.5 telah terinstall, maka download library \n",
    "        pygame dengan cp35m-win32.  \n",
    "        \n",
    "     b.\tMerubah file pygame.whl menjadi .zip \n",
    "        Ubah extension file library pygame lalu extract isi library tersebut.\n",
    "        \n",
    "     c.\tCopy file pygame yang dibutuhkan\n",
    "     \n",
    "        1) Masuk ke dalam directory python\n",
    "        \n",
    "          (C:\\Users\\#username\\AppData\\Local\\Programs\\Python\\Python35-32)\n",
    "          \n",
    "        2) Masuk kedalam folder “include” dan buat folder baru bernama “pygame”. \n",
    "        \n",
    "        3) Di dalam folder hasil extract file library pygame yang sudah didownload, masuk ke “pygame-1.9.4.data\\header”, \n",
    "           copy semua file di dalam folder tersebut dan masukkan ke dalam folder:\n",
    "          \n",
    "              C:\\Users\\#username\\AppData\\Local\\Programs\\Python\\Python35-32\\include\\pygame\n",
    "              \n",
    "        4) Kembali ke folder hasil extract file library pygame tadi, copy folder “pygame” dan “pygame-1.9.4.dist-info”\n",
    "          kedalam: \n",
    "          \n",
    "          C:\\Users\\#username\\AppData\\Local\\Programs\\Python\\Python35-32\\Lib\\site-packages \n",
    "          \n",
    "      d. Cek hasil installasi \n",
    "         Buka IDLE Python lalu lakukan perintah “import pygame”, jika tidak ada tulisan error maka pygame sudah berhasil\n",
    "         terinstall.\n",
    "         "
   ]
  },
  {
   "cell_type": "markdown",
   "metadata": {},
   "source": [
    "<img src=\"https://3.bp.blogspot.com/-8yyoL7UNe-M/XBsT4ISarHI/AAAAAAAACk8/FPQQGmAGjY4ADOibUvhM0o6EG12gdCXZQCLcBGAs/s1600/pygame_1.png\" width=\"640\" height=\"480\"/>"
   ]
  }
 ],
 "metadata": {
  "kernelspec": {
   "display_name": "Python 3",
   "language": "python",
   "name": "python3"
  },
  "language_info": {
   "codemirror_mode": {
    "name": "ipython",
    "version": 3
   },
   "file_extension": ".py",
   "mimetype": "text/x-python",
   "name": "python",
   "nbconvert_exporter": "python",
   "pygments_lexer": "ipython3",
   "version": "3.6.5"
  }
 },
 "nbformat": 4,
 "nbformat_minor": 2
}
